{
 "cells": [
  {
   "cell_type": "code",
   "execution_count": 1,
   "metadata": {},
   "outputs": [],
   "source": [
    "import csv\n",
    "import numpy as np"
   ]
  },
  {
   "cell_type": "code",
   "execution_count": 2,
   "metadata": {},
   "outputs": [],
   "source": [
    "time = []\n",
    "theta = []\n",
    "d_theta = []\n",
    "psi = []\n",
    "d_psi = []\n",
    "phi = []\n",
    "d_phi = []\n",
    "\n",
    "with open('/home/yoggi/gyrobro/data/states.csv') as f:\n",
    "    reader = list(csv.reader(f))\n",
    "\n",
    "for i in range(1, len(reader)-2):\n",
    "    time.append(float(reader[i][0])-1721041814.6381)\n",
    "    if reader[i][10] != '':\n",
    "        theta.append(float(reader[i][10]))\n",
    "    if reader[i][11] != '':\n",
    "        psi.append(float(reader[i][11]))\n",
    "    if reader[i][12] != '':\n",
    "        d_theta.append(float(reader[i][12]))\n",
    "    if reader[i][13] != '':\n",
    "        d_psi.append(float(reader[i][13]))\n",
    "    if reader[i][14] != '':\n",
    "        phi.append(float(reader[i][14]))\n",
    "    if reader[i][15] != '':\n",
    "        d_phi.append(float(reader[i][15]))\n"
   ]
  },
  {
   "cell_type": "code",
   "execution_count": 3,
   "metadata": {},
   "outputs": [],
   "source": [
    "std_theta = np.std(theta)\n",
    "std_d_theta = np.std(d_theta)\n",
    "std_psi = np.std(psi)\n",
    "std_d_psi = np.std(d_psi)\n",
    "std_phi = np.std(phi)\n",
    "std_d_phi = np.std(d_phi)"
   ]
  },
  {
   "cell_type": "code",
   "execution_count": 4,
   "metadata": {},
   "outputs": [
    {
     "name": "stdout",
     "output_type": "stream",
     "text": [
      "std_theta: 0.00017226001144812016\n",
      "std_d_theta: 0.009447350569661742\n",
      "std_psi: 0.00013589648601313272\n",
      "std_d_psi: 0.0009412478996891124\n",
      "std_phi: 0.00012274695041221317\n",
      "std_d_phi: 0.0010571207850899585\n"
     ]
    }
   ],
   "source": [
    "print(f'std_theta: {std_theta}')\n",
    "print(f'std_d_theta: {std_d_theta}')\n",
    "print(f'std_psi: {std_psi}')\n",
    "print(f'std_d_psi: {std_d_psi}')\n",
    "print(f'std_phi: {std_phi}')\n",
    "print(f'std_d_phi: {std_d_phi}')"
   ]
  }
 ],
 "metadata": {
  "kernelspec": {
   "display_name": ".venv",
   "language": "python",
   "name": "python3"
  },
  "language_info": {
   "codemirror_mode": {
    "name": "ipython",
    "version": 3
   },
   "file_extension": ".py",
   "mimetype": "text/x-python",
   "name": "python",
   "nbconvert_exporter": "python",
   "pygments_lexer": "ipython3",
   "version": "3.12.3"
  }
 },
 "nbformat": 4,
 "nbformat_minor": 2
}
